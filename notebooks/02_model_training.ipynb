{
 "cells": [
  {
   "cell_type": "code",
   "execution_count": 10,
   "id": "801aa775",
   "metadata": {},
   "outputs": [],
   "source": [
    "import pandas as pd\n",
    "import numpy as np\n",
    "from sklearn.feature_extraction.text import TfidfVectorizer\n",
    "from sklearn.metrics.pairwise import cosine_similarity\n",
    "from sentence_transformers import SentenceTransformer\n",
    "import pickle\n",
    "import os\n",
    "import warnings\n",
    "warnings.filterwarnings('ignore')"
   ]
  },
  {
   "cell_type": "code",
   "execution_count": 11,
   "id": "5e88aa22",
   "metadata": {},
   "outputs": [
    {
     "name": "stdout",
     "output_type": "stream",
     "text": [
      "2.9.0+cpu\n",
      "False\n"
     ]
    }
   ],
   "source": [
    "import torch\n",
    "print(torch.__version__)\n",
    "print(torch.cuda.is_available())  # checks if GPU is accessible\n",
    "\n"
   ]
  },
  {
   "cell_type": "code",
   "execution_count": 12,
   "id": "ab54ea76",
   "metadata": {},
   "outputs": [],
   "source": [
    "os.chdir(r\"C:\\Users\\HP\\furniture-recommender\")\n",
    "\n"
   ]
  },
  {
   "cell_type": "code",
   "execution_count": 15,
   "id": "35cb27ef",
   "metadata": {},
   "outputs": [
    {
     "name": "stdout",
     "output_type": "stream",
     "text": [
      "Loaded 312 rows\n"
     ]
    },
    {
     "data": {
      "text/html": [
       "<div>\n",
       "<style scoped>\n",
       "    .dataframe tbody tr th:only-of-type {\n",
       "        vertical-align: middle;\n",
       "    }\n",
       "\n",
       "    .dataframe tbody tr th {\n",
       "        vertical-align: top;\n",
       "    }\n",
       "\n",
       "    .dataframe thead th {\n",
       "        text-align: right;\n",
       "    }\n",
       "</style>\n",
       "<table border=\"1\" class=\"dataframe\">\n",
       "  <thead>\n",
       "    <tr style=\"text-align: right;\">\n",
       "      <th></th>\n",
       "      <th>title</th>\n",
       "      <th>brand</th>\n",
       "      <th>description</th>\n",
       "      <th>price</th>\n",
       "      <th>categories</th>\n",
       "      <th>images</th>\n",
       "      <th>manufacturer</th>\n",
       "      <th>package_dimensions</th>\n",
       "      <th>country_of_origin</th>\n",
       "      <th>material</th>\n",
       "      <th>color</th>\n",
       "      <th>uniq_id</th>\n",
       "    </tr>\n",
       "  </thead>\n",
       "  <tbody>\n",
       "    <tr>\n",
       "      <th>0</th>\n",
       "      <td>GOYMFK 1pc Free Standing Shoe Rack, Multi-laye...</td>\n",
       "      <td>GOYMFK</td>\n",
       "      <td>multiple shoes, coats, hats, and other items E...</td>\n",
       "      <td>24.99</td>\n",
       "      <td>['Home &amp; Kitchen', 'Storage &amp; Organization', '...</td>\n",
       "      <td>['https://m.media-amazon.com/images/I/416WaLx1...</td>\n",
       "      <td>GOYMFK</td>\n",
       "      <td>2.36\"D x 7.87\"W x 21.6\"H</td>\n",
       "      <td>China</td>\n",
       "      <td>Metal</td>\n",
       "      <td>White</td>\n",
       "      <td>02593e81-5c09-5069-8516-b0b29f439ded</td>\n",
       "    </tr>\n",
       "    <tr>\n",
       "      <th>1</th>\n",
       "      <td>subrtex Leather ding Room, Dining Chairs Set o...</td>\n",
       "      <td>subrtex</td>\n",
       "      <td>subrtex Dining chairs Set of 2</td>\n",
       "      <td>53.99</td>\n",
       "      <td>['Home &amp; Kitchen', 'Furniture', 'Dining Room F...</td>\n",
       "      <td>['https://m.media-amazon.com/images/I/31SejUEW...</td>\n",
       "      <td>Subrtex Houseware INC</td>\n",
       "      <td>18.5\"D x 16\"W x 35\"H</td>\n",
       "      <td>Unknown</td>\n",
       "      <td>Sponge</td>\n",
       "      <td>Black</td>\n",
       "      <td>5938d217-b8c5-5d3e-b1cf-e28e340f292e</td>\n",
       "    </tr>\n",
       "    <tr>\n",
       "      <th>2</th>\n",
       "      <td>Plant Repotting Mat MUYETOL Waterproof Transpl...</td>\n",
       "      <td>MUYETOL</td>\n",
       "      <td>Plant Repotting Mat MUYETOL Waterproof Transpl...</td>\n",
       "      <td>5.98</td>\n",
       "      <td>['Patio, Lawn &amp; Garden', 'Outdoor Décor', 'Doo...</td>\n",
       "      <td>['https://m.media-amazon.com/images/I/41RgefVq...</td>\n",
       "      <td>MUYETOL</td>\n",
       "      <td>26.8\"L x 26.8\"W</td>\n",
       "      <td>Unknown</td>\n",
       "      <td>Polyethylene</td>\n",
       "      <td>Green</td>\n",
       "      <td>b2ede786-3f51-5a45-9a5b-bcf856958cd8</td>\n",
       "    </tr>\n",
       "    <tr>\n",
       "      <th>3</th>\n",
       "      <td>Pickleball Doormat, Welcome Doormat Absorbent ...</td>\n",
       "      <td>VEWETOL</td>\n",
       "      <td>The decorative doormat features a subtle textu...</td>\n",
       "      <td>13.99</td>\n",
       "      <td>['Patio, Lawn &amp; Garden', 'Outdoor Décor', 'Doo...</td>\n",
       "      <td>['https://m.media-amazon.com/images/I/61vz1Igl...</td>\n",
       "      <td>Contrence</td>\n",
       "      <td>24\"L x 16\"W</td>\n",
       "      <td>Unknown</td>\n",
       "      <td>Rubber</td>\n",
       "      <td>A5589</td>\n",
       "      <td>8fd9377b-cfa6-5f10-835c-6b8eca2816b5</td>\n",
       "    </tr>\n",
       "    <tr>\n",
       "      <th>4</th>\n",
       "      <td>JOIN IRON Foldable TV Trays for Eating Set of ...</td>\n",
       "      <td>JOIN IRON Store</td>\n",
       "      <td>Set of Four Folding Trays With Matching Storag...</td>\n",
       "      <td>89.99</td>\n",
       "      <td>['Home &amp; Kitchen', 'Furniture', 'Game &amp; Recrea...</td>\n",
       "      <td>['https://m.media-amazon.com/images/I/41p4d4VJ...</td>\n",
       "      <td>NaN</td>\n",
       "      <td>18.9\"D x 14.2\"W x 26\"H</td>\n",
       "      <td>Unknown</td>\n",
       "      <td>Iron</td>\n",
       "      <td>Grey Set of 4</td>\n",
       "      <td>bdc9aa30-9439-50dc-8e89-213ea211d66a</td>\n",
       "    </tr>\n",
       "  </tbody>\n",
       "</table>\n",
       "</div>"
      ],
      "text/plain": [
       "                                               title            brand  \\\n",
       "0  GOYMFK 1pc Free Standing Shoe Rack, Multi-laye...           GOYMFK   \n",
       "1  subrtex Leather ding Room, Dining Chairs Set o...          subrtex   \n",
       "2  Plant Repotting Mat MUYETOL Waterproof Transpl...          MUYETOL   \n",
       "3  Pickleball Doormat, Welcome Doormat Absorbent ...          VEWETOL   \n",
       "4  JOIN IRON Foldable TV Trays for Eating Set of ...  JOIN IRON Store   \n",
       "\n",
       "                                         description  price  \\\n",
       "0  multiple shoes, coats, hats, and other items E...  24.99   \n",
       "1                     subrtex Dining chairs Set of 2  53.99   \n",
       "2  Plant Repotting Mat MUYETOL Waterproof Transpl...   5.98   \n",
       "3  The decorative doormat features a subtle textu...  13.99   \n",
       "4  Set of Four Folding Trays With Matching Storag...  89.99   \n",
       "\n",
       "                                          categories  \\\n",
       "0  ['Home & Kitchen', 'Storage & Organization', '...   \n",
       "1  ['Home & Kitchen', 'Furniture', 'Dining Room F...   \n",
       "2  ['Patio, Lawn & Garden', 'Outdoor Décor', 'Doo...   \n",
       "3  ['Patio, Lawn & Garden', 'Outdoor Décor', 'Doo...   \n",
       "4  ['Home & Kitchen', 'Furniture', 'Game & Recrea...   \n",
       "\n",
       "                                              images           manufacturer  \\\n",
       "0  ['https://m.media-amazon.com/images/I/416WaLx1...                 GOYMFK   \n",
       "1  ['https://m.media-amazon.com/images/I/31SejUEW...  Subrtex Houseware INC   \n",
       "2  ['https://m.media-amazon.com/images/I/41RgefVq...                MUYETOL   \n",
       "3  ['https://m.media-amazon.com/images/I/61vz1Igl...              Contrence   \n",
       "4  ['https://m.media-amazon.com/images/I/41p4d4VJ...                    NaN   \n",
       "\n",
       "         package_dimensions country_of_origin      material          color  \\\n",
       "0  2.36\"D x 7.87\"W x 21.6\"H             China         Metal          White   \n",
       "1      18.5\"D x 16\"W x 35\"H           Unknown        Sponge          Black   \n",
       "2           26.8\"L x 26.8\"W           Unknown  Polyethylene          Green   \n",
       "3               24\"L x 16\"W           Unknown        Rubber          A5589   \n",
       "4    18.9\"D x 14.2\"W x 26\"H           Unknown          Iron  Grey Set of 4   \n",
       "\n",
       "                                uniq_id  \n",
       "0  02593e81-5c09-5069-8516-b0b29f439ded  \n",
       "1  5938d217-b8c5-5d3e-b1cf-e28e340f292e  \n",
       "2  b2ede786-3f51-5a45-9a5b-bcf856958cd8  \n",
       "3  8fd9377b-cfa6-5f10-835c-6b8eca2816b5  \n",
       "4  bdc9aa30-9439-50dc-8e89-213ea211d66a  "
      ]
     },
     "execution_count": 15,
     "metadata": {},
     "output_type": "execute_result"
    }
   ],
   "source": [
    "import pandas as pd\n",
    "\n",
    "df = pd.read_csv(r\"C:\\Users\\HP\\furniture-recommender\\data\\furniture_data_clean.csv\")\n",
    "print(f\"Loaded {len(df)} rows\")\n",
    "df.head()\n"
   ]
  },
  {
   "cell_type": "code",
   "execution_count": 16,
   "id": "be1ebf2e",
   "metadata": {},
   "outputs": [
    {
     "name": "stdout",
     "output_type": "stream",
     "text": [
      "Sample combined features:\n",
      "GOYMFK 1pc Free Standing Shoe Rack, Multi-layer Metal Shoe Cap Rack With 8 Double Hooks For Living Room, Bathroom, HallwayGOYMFK 1pc Free Standing Shoe Rack, Multi-layer Metal Shoe Cap Rack With 8 Dou...\n"
     ]
    }
   ],
   "source": [
    "# Cell 3: Create combined text features\n",
    "# Combining multiple text fields gives better recommendations\n",
    "# We weight title and description more heavily than other fields\n",
    "def create_text_features(row):\n",
    "    \"\"\"\n",
    "    Combine multiple product features into a single text representation.\n",
    "    This helps the model understand product similarity better.\n",
    "    \"\"\"\n",
    "    features = []\n",
    "    \n",
    "    # Add title (most important)\n",
    "    if pd.notna(row['title']):\n",
    "        features.append(str(row['title']) * 2)  # Repeat for emphasis\n",
    "    \n",
    "    # Add description\n",
    "    if pd.notna(row['description']):\n",
    "        features.append(str(row['description']))\n",
    "    \n",
    "    # Add category (important for grouping)\n",
    "    if pd.notna(row['categories']):\n",
    "        features.append(str(row['categories']) * 2)\n",
    "    \n",
    "    # Add other features\n",
    "    for col in ['brand', 'material', 'color']:\n",
    "        if pd.notna(row[col]):\n",
    "            features.append(str(row[col]))\n",
    "    \n",
    "    return ' '.join(features)\n",
    "\n",
    "df['combined_features'] = df.apply(create_text_features, axis=1)\n",
    "print(\"Sample combined features:\")\n",
    "print(df['combined_features'].iloc[0][:200] + \"...\")\n",
    "\n"
   ]
  },
  {
   "cell_type": "code",
   "execution_count": 17,
   "id": "bfb4cf67",
   "metadata": {},
   "outputs": [
    {
     "name": "stdout",
     "output_type": "stream",
     "text": [
      "\n",
      "Creating TF-IDF embeddings...\n",
      "TF-IDF matrix shape: (312, 500)\n",
      "TF-IDF vectorizer saved\n"
     ]
    }
   ],
   "source": [
    "# Cell 4: Create TF-IDF embeddings\n",
    "# TF-IDF helps identify important words for each product\n",
    "print(\"\\nCreating TF-IDF embeddings...\")\n",
    "tfidf = TfidfVectorizer(\n",
    "    max_features=500,  # Use top 500 features\n",
    "    stop_words='english',  # Remove common English words\n",
    "    ngram_range=(1, 2)  # Use single words and word pairs\n",
    ")\n",
    "\n",
    "tfidf_matrix = tfidf.fit_transform(df['combined_features'])\n",
    "print(f\"TF-IDF matrix shape: {tfidf_matrix.shape}\")\n",
    "\n",
    "# Save TF-IDF model\n",
    "os.makedirs('../backend/models', exist_ok=True)\n",
    "with open('../backend/models/tfidf_vectorizer.pkl', 'wb') as f:\n",
    "    pickle.dump(tfidf, f)\n",
    "print(\"TF-IDF vectorizer saved\")"
   ]
  },
  {
   "cell_type": "code",
   "execution_count": 18,
   "id": "61b98fa7",
   "metadata": {},
   "outputs": [
    {
     "name": "stdout",
     "output_type": "stream",
     "text": [
      "\n",
      "Test product: GOYMFK 1pc Free Standing Shoe Rack, Multi-layer Metal Shoe Cap Rack With 8 Double Hooks For Living Room, Bathroom, Hallway\n",
      "Category: ['Home & Kitchen', 'Storage & Organization', 'Clothing & Closet Storage', 'Shoe Organizers', 'Free Standing Shoe Racks']\n",
      "Price: $24.99\n",
      "\n",
      "Recommendations:\n",
      "  - GOYMFK 1pc Free Standing Shoe Rack, Multi-layer Me... (Similarity: 1.000)\n",
      "  - Dscabomlg Foldable Shoe Storage Plastic Vertical S... (Similarity: 0.715)\n",
      "  - LANTEFUL Shoe Rack Organizer Shoe Storage Cabinet ... (Similarity: 0.700)\n",
      "  - Honey-Can-Do 3-Tier Nesting Bamboo Shoe Rack SHO-0... (Similarity: 0.668)\n",
      "  - sogesfurniture 5 Tier Free Standing Wooden Shoe St... (Similarity: 0.645)\n"
     ]
    }
   ],
   "source": [
    "# Cell 5: Test recommendation system\n",
    "# Let's verify our recommendations make sense\n",
    "def get_recommendations_tfidf(product_idx, top_n=5):\n",
    "    \"\"\"\n",
    "    Get similar products using TF-IDF and cosine similarity.\n",
    "    This is a simple but effective recommendation approach.\n",
    "    \"\"\"\n",
    "    # Calculate similarity between target product and all others\n",
    "    cosine_sim = cosine_similarity(tfidf_matrix[product_idx], tfidf_matrix).flatten()\n",
    "    \n",
    "    # Get indices of most similar products (excluding the product itself)\n",
    "    similar_indices = cosine_sim.argsort()[-top_n-1:-1][::-1]\n",
    "    \n",
    "    return similar_indices, cosine_sim[similar_indices]\n",
    "\n",
    "# Test with first product\n",
    "test_idx = 0\n",
    "print(f\"\\nTest product: {df.iloc[test_idx]['title']}\")\n",
    "print(f\"Category: {df.iloc[test_idx]['categories']}\")\n",
    "print(f\"Price: ${df.iloc[test_idx]['price']:.2f}\")\n",
    "print(\"\\nRecommendations:\")\n",
    "\n",
    "rec_indices, similarities = get_recommendations_tfidf(test_idx, top_n=5)\n",
    "for idx, sim in zip(rec_indices, similarities):\n",
    "    print(f\"  - {df.iloc[idx]['title'][:50]}... (Similarity: {sim:.3f})\")"
   ]
  },
  {
   "cell_type": "code",
   "execution_count": 19,
   "id": "610786d7",
   "metadata": {},
   "outputs": [
    {
     "name": "stdout",
     "output_type": "stream",
     "text": [
      "\n",
      "Creating sentence embeddings...\n",
      "Loading SentenceTransformer model (this may take a minute)...\n"
     ]
    },
    {
     "data": {
      "application/vnd.jupyter.widget-view+json": {
       "model_id": "2c88fdde35c9483a8b42f03c98791791",
       "version_major": 2,
       "version_minor": 0
      },
      "text/plain": [
       "modules.json:   0%|          | 0.00/349 [00:00<?, ?B/s]"
      ]
     },
     "metadata": {},
     "output_type": "display_data"
    },
    {
     "data": {
      "application/vnd.jupyter.widget-view+json": {
       "model_id": "3ce9c1dde2314fa8a1b1671f28acd849",
       "version_major": 2,
       "version_minor": 0
      },
      "text/plain": [
       "config_sentence_transformers.json:   0%|          | 0.00/116 [00:00<?, ?B/s]"
      ]
     },
     "metadata": {},
     "output_type": "display_data"
    },
    {
     "data": {
      "application/vnd.jupyter.widget-view+json": {
       "model_id": "7e9ac8b689a14510b7c2c41e2b55bae5",
       "version_major": 2,
       "version_minor": 0
      },
      "text/plain": [
       "README.md: 0.00B [00:00, ?B/s]"
      ]
     },
     "metadata": {},
     "output_type": "display_data"
    },
    {
     "data": {
      "application/vnd.jupyter.widget-view+json": {
       "model_id": "bc91d190eece438e9646798b92af4d56",
       "version_major": 2,
       "version_minor": 0
      },
      "text/plain": [
       "sentence_bert_config.json:   0%|          | 0.00/53.0 [00:00<?, ?B/s]"
      ]
     },
     "metadata": {},
     "output_type": "display_data"
    },
    {
     "data": {
      "application/vnd.jupyter.widget-view+json": {
       "model_id": "8d67e8f4b9c247e087e8c2fcc854143c",
       "version_major": 2,
       "version_minor": 0
      },
      "text/plain": [
       "config.json:   0%|          | 0.00/612 [00:00<?, ?B/s]"
      ]
     },
     "metadata": {},
     "output_type": "display_data"
    },
    {
     "data": {
      "application/vnd.jupyter.widget-view+json": {
       "model_id": "aedf24c078244214b29cd38337631c2a",
       "version_major": 2,
       "version_minor": 0
      },
      "text/plain": [
       "model.safetensors:   0%|          | 0.00/90.9M [00:00<?, ?B/s]"
      ]
     },
     "metadata": {},
     "output_type": "display_data"
    },
    {
     "data": {
      "application/vnd.jupyter.widget-view+json": {
       "model_id": "48b9fd3f59c7432da246e7cba69a790d",
       "version_major": 2,
       "version_minor": 0
      },
      "text/plain": [
       "tokenizer_config.json:   0%|          | 0.00/350 [00:00<?, ?B/s]"
      ]
     },
     "metadata": {},
     "output_type": "display_data"
    },
    {
     "data": {
      "application/vnd.jupyter.widget-view+json": {
       "model_id": "4213b014341e4c598eccf08accdf2cb3",
       "version_major": 2,
       "version_minor": 0
      },
      "text/plain": [
       "vocab.txt: 0.00B [00:00, ?B/s]"
      ]
     },
     "metadata": {},
     "output_type": "display_data"
    },
    {
     "data": {
      "application/vnd.jupyter.widget-view+json": {
       "model_id": "5445d96ed03d4e008dc86eef4af636f5",
       "version_major": 2,
       "version_minor": 0
      },
      "text/plain": [
       "tokenizer.json: 0.00B [00:00, ?B/s]"
      ]
     },
     "metadata": {},
     "output_type": "display_data"
    },
    {
     "data": {
      "application/vnd.jupyter.widget-view+json": {
       "model_id": "cc9e319f72664caebed930984167d84b",
       "version_major": 2,
       "version_minor": 0
      },
      "text/plain": [
       "special_tokens_map.json:   0%|          | 0.00/112 [00:00<?, ?B/s]"
      ]
     },
     "metadata": {},
     "output_type": "display_data"
    },
    {
     "data": {
      "application/vnd.jupyter.widget-view+json": {
       "model_id": "3fbdff8aec3b47a7ab9f616fc4a61821",
       "version_major": 2,
       "version_minor": 0
      },
      "text/plain": [
       "config.json:   0%|          | 0.00/190 [00:00<?, ?B/s]"
      ]
     },
     "metadata": {},
     "output_type": "display_data"
    },
    {
     "data": {
      "application/vnd.jupyter.widget-view+json": {
       "model_id": "6fc0bc1c56ef40b185138fd16705329f",
       "version_major": 2,
       "version_minor": 0
      },
      "text/plain": [
       "Batches:   0%|          | 0/10 [00:00<?, ?it/s]"
      ]
     },
     "metadata": {},
     "output_type": "display_data"
    },
    {
     "name": "stdout",
     "output_type": "stream",
     "text": [
      "Embeddings shape: (312, 384)\n",
      "Sentence embeddings saved\n"
     ]
    }
   ],
   "source": [
    "# Cell 6: Create sentence embeddings using SentenceTransformer\n",
    "# These embeddings capture semantic meaning better than TF-IDF\n",
    "print(\"\\nCreating sentence embeddings...\")\n",
    "print(\"Loading SentenceTransformer model (this may take a minute)...\")\n",
    "\n",
    "# Use a lightweight model for speed\n",
    "model = SentenceTransformer('all-MiniLM-L6-v2')\n",
    "\n",
    "# Create embeddings for all products\n",
    "embeddings = model.encode(\n",
    "    df['combined_features'].tolist(),\n",
    "    show_progress_bar=True,\n",
    "    batch_size=32\n",
    ")\n",
    "\n",
    "print(f\"Embeddings shape: {embeddings.shape}\")\n",
    "\n",
    "# Save embeddings\n",
    "np.save('../backend/models/sentence_embeddings.npy', embeddings)\n",
    "print(\"Sentence embeddings saved\")"
   ]
  },
  {
   "cell_type": "code",
   "execution_count": 20,
   "id": "62e5af22",
   "metadata": {},
   "outputs": [
    {
     "name": "stdout",
     "output_type": "stream",
     "text": [
      "\n",
      "Semantic search for: GOYMFK 1pc Free Standing Shoe Rack, Multi-layer Metal Shoe Cap Rack With 8 Double Hooks For Living Room, Bathroom, Hallway\n",
      "  - GOYMFK 1pc Free Standing Shoe Rack, Multi-layer Me... (Similarity: 1.000)\n",
      "  - LANTEFUL Shoe Rack Organizer Shoe Storage Cabinet ... (Similarity: 0.817)\n",
      "  - sogesfurniture 5 Tier Free Standing Wooden Shoe St... (Similarity: 0.749)\n",
      "  - Soerreo Shoe Slot Storage Box Adjustable Shoe Rack... (Similarity: 0.737)\n",
      "  - Dscabomlg Foldable Shoe Storage Plastic Vertical S... (Similarity: 0.728)\n"
     ]
    }
   ],
   "source": [
    "# Cell 7: Test semantic search\n",
    "def get_recommendations_semantic(product_idx, embeddings, top_n=5):\n",
    "    \"\"\"\n",
    "    Get similar products using sentence embeddings.\n",
    "    This captures semantic similarity better than keyword matching.\n",
    "    \"\"\"\n",
    "    # Calculate cosine similarity\n",
    "    similarities = cosine_similarity([embeddings[product_idx]], embeddings).flatten()\n",
    "    \n",
    "    # Get top similar products\n",
    "    similar_indices = similarities.argsort()[-top_n-1:-1][::-1]\n",
    "    \n",
    "    return similar_indices, similarities[similar_indices]\n",
    "\n",
    "# Test semantic search\n",
    "print(f\"\\nSemantic search for: {df.iloc[test_idx]['title']}\")\n",
    "rec_indices, similarities = get_recommendations_semantic(test_idx, embeddings, top_n=5)\n",
    "for idx, sim in zip(rec_indices, similarities):\n",
    "    print(f\"  - {df.iloc[idx]['title'][:50]}... (Similarity: {sim:.3f})\")\n"
   ]
  },
  {
   "cell_type": "code",
   "execution_count": 21,
   "id": "e86e4e25",
   "metadata": {},
   "outputs": [
    {
     "name": "stdout",
     "output_type": "stream",
     "text": [
      "Label encoder saved\n"
     ]
    }
   ],
   "source": [
    "# Cell 8: Create category classifier\n",
    "# Simple category classification based on text features\n",
    "from sklearn.preprocessing import LabelEncoder\n",
    "\n",
    "le = LabelEncoder()\n",
    "df['category_encoded'] = le.fit_transform(df['categories'])\n",
    "\n",
    "# Save label encoder\n",
    "with open('../backend/models/label_encoder.pkl', 'wb') as f:\n",
    "    pickle.dump(le, f)\n",
    "print(\"Label encoder saved\")\n"
   ]
  },
  {
   "cell_type": "code",
   "execution_count": 22,
   "id": "e7252a3f",
   "metadata": {},
   "outputs": [
    {
     "name": "stdout",
     "output_type": "stream",
     "text": [
      "Saved 312 products for backend\n"
     ]
    }
   ],
   "source": [
    "# Cell 9: Save product data for backend\n",
    "# Save a subset of data needed for the API\n",
    "product_data = df[[\n",
    "    'uniq_id', 'title', 'brand', 'description', \n",
    "    'price', 'categories', 'images', 'material', 'color'\n",
    "]].to_dict('records')\n",
    "\n",
    "with open('../backend/models/product_data.pkl', 'wb') as f:\n",
    "    pickle.dump(product_data, f)\n",
    "print(f\"Saved {len(product_data)} products for backend\")"
   ]
  },
  {
   "cell_type": "code",
   "execution_count": 23,
   "id": "18c2717f",
   "metadata": {},
   "outputs": [
    {
     "name": "stdout",
     "output_type": "stream",
     "text": [
      "\n",
      "==================================================\n",
      "MODEL TRAINING COMPLETE\n",
      "==================================================\n",
      "Total products: 312\n",
      "TF-IDF features: 500\n",
      "Embedding dimensions: 384\n",
      "Unique categories: 87\n",
      "\n",
      "Saved files:\n",
      "  - ../backend/models/tfidf_vectorizer.pkl\n",
      "  - ../backend/models/sentence_embeddings.npy\n",
      "  - ../backend/models/label_encoder.pkl\n",
      "  - ../backend/models/product_data.pkl\n"
     ]
    }
   ],
   "source": [
    "# Cell 10: Performance summary\n",
    "print(\"\\n\" + \"=\"*50)\n",
    "print(\"MODEL TRAINING COMPLETE\")\n",
    "print(\"=\"*50)\n",
    "print(f\"Total products: {len(df)}\")\n",
    "print(f\"TF-IDF features: {tfidf_matrix.shape[1]}\")\n",
    "print(f\"Embedding dimensions: {embeddings.shape[1]}\")\n",
    "print(f\"Unique categories: {df['categories'].nunique()}\")\n",
    "print(\"\\nSaved files:\")\n",
    "print(\"  - ../backend/models/tfidf_vectorizer.pkl\")\n",
    "print(\"  - ../backend/models/sentence_embeddings.npy\")\n",
    "print(\"  - ../backend/models/label_encoder.pkl\")\n",
    "print(\"  - ../backend/models/product_data.pkl\")"
   ]
  }
 ],
 "metadata": {
  "kernelspec": {
   "display_name": "Python 3",
   "language": "python",
   "name": "python3"
  },
  "language_info": {
   "codemirror_mode": {
    "name": "ipython",
    "version": 3
   },
   "file_extension": ".py",
   "mimetype": "text/x-python",
   "name": "python",
   "nbconvert_exporter": "python",
   "pygments_lexer": "ipython3",
   "version": "3.12.4"
  }
 },
 "nbformat": 4,
 "nbformat_minor": 5
}
